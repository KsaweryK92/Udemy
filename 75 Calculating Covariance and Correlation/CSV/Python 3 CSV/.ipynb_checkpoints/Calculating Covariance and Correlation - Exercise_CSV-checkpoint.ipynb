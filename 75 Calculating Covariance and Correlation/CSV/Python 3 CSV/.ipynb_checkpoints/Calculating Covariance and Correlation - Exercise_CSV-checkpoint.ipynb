{
 "cells": [
  {
   "cell_type": "markdown",
   "metadata": {},
   "source": [
    "## Calculating Covariance and Correlation"
   ]
  },
  {
   "cell_type": "markdown",
   "metadata": {},
   "source": [
    "Consider a portfolio composed of *Walmart* and *Facebook*. Do you expect the returns of these companies to show high or low covariance? Or, could you guess what the correlation would be? Will it be closer to 0 or closer to 1? "
   ]
  },
  {
   "cell_type": "markdown",
   "metadata": {},
   "source": [
    "Begin by extracting data for Walmart and Facebook from the 1st of January 2014 until today."
   ]
  },
  {
   "cell_type": "code",
   "execution_count": 9,
   "metadata": {},
   "outputs": [
    {
     "name": "stdout",
     "output_type": "stream",
     "text": [
      "<class 'pandas.core.frame.DataFrame'>\n",
      "Index: 823 entries, 2014-01-02 to 2017-04-07\n",
      "Data columns (total 2 columns):\n",
      "WMT    823 non-null float64\n",
      "FB     823 non-null float64\n",
      "dtypes: float64(2)\n",
      "memory usage: 19.3+ KB\n"
     ]
    },
    {
     "data": {
      "text/html": [
       "<div>\n",
       "<style scoped>\n",
       "    .dataframe tbody tr th:only-of-type {\n",
       "        vertical-align: middle;\n",
       "    }\n",
       "\n",
       "    .dataframe tbody tr th {\n",
       "        vertical-align: top;\n",
       "    }\n",
       "\n",
       "    .dataframe thead th {\n",
       "        text-align: right;\n",
       "    }\n",
       "</style>\n",
       "<table border=\"1\" class=\"dataframe\">\n",
       "  <thead>\n",
       "    <tr style=\"text-align: right;\">\n",
       "      <th></th>\n",
       "      <th>WMT</th>\n",
       "      <th>FB</th>\n",
       "    </tr>\n",
       "    <tr>\n",
       "      <th>Date</th>\n",
       "      <th></th>\n",
       "      <th></th>\n",
       "    </tr>\n",
       "  </thead>\n",
       "  <tbody>\n",
       "    <tr>\n",
       "      <td>2014-01-02</td>\n",
       "      <td>71.325287</td>\n",
       "      <td>54.709999</td>\n",
       "    </tr>\n",
       "    <tr>\n",
       "      <td>2014-01-03</td>\n",
       "      <td>71.090279</td>\n",
       "      <td>54.560001</td>\n",
       "    </tr>\n",
       "    <tr>\n",
       "      <td>2014-01-06</td>\n",
       "      <td>70.692558</td>\n",
       "      <td>57.200001</td>\n",
       "    </tr>\n",
       "    <tr>\n",
       "      <td>2014-01-07</td>\n",
       "      <td>70.909485</td>\n",
       "      <td>57.919998</td>\n",
       "    </tr>\n",
       "    <tr>\n",
       "      <td>2014-01-08</td>\n",
       "      <td>70.349083</td>\n",
       "      <td>58.230000</td>\n",
       "    </tr>\n",
       "  </tbody>\n",
       "</table>\n",
       "</div>"
      ],
      "text/plain": [
       "                  WMT         FB\n",
       "Date                            \n",
       "2014-01-02  71.325287  54.709999\n",
       "2014-01-03  71.090279  54.560001\n",
       "2014-01-06  70.692558  57.200001\n",
       "2014-01-07  70.909485  57.919998\n",
       "2014-01-08  70.349083  58.230000"
      ]
     },
     "execution_count": 9,
     "metadata": {},
     "output_type": "execute_result"
    }
   ],
   "source": [
    "import pandas\n",
    "new_data = pandas.read_csv(r'/home/ksawery/PycharmProjects/Udemy/Python for Finance - Notebook Files/75 Calculating Covariance and Correlation/CSV/Python 3 CSV/Walmart_FB_2014_2017.csv')\n",
    "new_data = new_data[new_data['Date'] >= '2014-01-01'].set_index('Date')\n",
    "new_data.info()\n",
    "new_data.head()"
   ]
  },
  {
   "cell_type": "markdown",
   "metadata": {},
   "source": [
    "Repeat the process we went through in the lecture for these two stocks. How would you explain the difference between their means and their standard deviations?"
   ]
  },
  {
   "cell_type": "code",
   "execution_count": 15,
   "metadata": {},
   "outputs": [
    {
     "name": "stdout",
     "output_type": "stream",
     "text": [
      "                 WMT        FB\n",
      "Date                          \n",
      "2014-01-02       NaN       NaN\n",
      "2014-01-03 -0.003300 -0.002745\n",
      "2014-01-06 -0.005610  0.047253\n",
      "2014-01-07  0.003064  0.012509\n",
      "2014-01-08 -0.007934  0.005338\n",
      "...              ...       ...\n",
      "2017-04-03 -0.003474  0.001618\n",
      "2017-04-04  0.002503 -0.003873\n",
      "2017-04-05 -0.005012  0.000846\n",
      "2017-04-06 -0.003075 -0.004805\n",
      "2017-04-07  0.020371 -0.002766\n",
      "\n",
      "[823 rows x 2 columns]\n",
      "----------------------\n",
      "1.0824388707015396e-05\n",
      "0.0027060971767538487\n",
      "----------------------\n",
      "0.0011498198190744117\n",
      "0.2874549547686029\n",
      "----------------------\n"
     ]
    }
   ],
   "source": [
    "import numpy\n",
    "returns = pandas.DataFrame()\n",
    "returns = numpy.log(new_data / new_data.shift(1))\n",
    "print(returns)\n",
    "print('----------------------')\n",
    "WMT_mean = returns['WMT'].mean()\n",
    "print(WMT_mean)\n",
    "WMT_annual = returns['WMT'].mean() * 250\n",
    "print(WMT_annual)\n",
    "print('----------------------')\n",
    "FB_mean = returns['FB'].mean()\n",
    "print(FB_mean)\n",
    "FB_annual = returns['FB'].mean() * 250\n",
    "print(FB_annual)\n",
    "print('----------------------')"
   ]
  },
  {
   "cell_type": "markdown",
   "metadata": {},
   "source": [
    "***"
   ]
  },
  {
   "cell_type": "markdown",
   "metadata": {},
   "source": [
    "## Covariance and Correlation"
   ]
  },
  {
   "cell_type": "markdown",
   "metadata": {},
   "source": [
    "\n",
    "\\begin{eqnarray*}\n",
    "Covariance Matrix: \\  \\   \n",
    "\\Sigma = \\begin{bmatrix}\n",
    "        \\sigma_{1}^2 \\ \\sigma_{12} \\ \\dots \\ \\sigma_{1I} \\\\\n",
    "        \\sigma_{21} \\ \\sigma_{2}^2 \\ \\dots \\ \\sigma_{2I} \\\\\n",
    "        \\vdots \\ \\vdots \\ \\ddots \\ \\vdots \\\\\n",
    "        \\sigma_{I1} \\ \\sigma_{I2} \\ \\dots \\ \\sigma_{I}^2\n",
    "    \\end{bmatrix}\n",
    "\\end{eqnarray*}"
   ]
  },
  {
   "cell_type": "markdown",
   "metadata": {},
   "source": [
    "Covariance matrix:"
   ]
  },
  {
   "cell_type": "code",
   "execution_count": 16,
   "metadata": {},
   "outputs": [
    {
     "data": {
      "text/html": [
       "<div>\n",
       "<style scoped>\n",
       "    .dataframe tbody tr th:only-of-type {\n",
       "        vertical-align: middle;\n",
       "    }\n",
       "\n",
       "    .dataframe tbody tr th {\n",
       "        vertical-align: top;\n",
       "    }\n",
       "\n",
       "    .dataframe thead th {\n",
       "        text-align: right;\n",
       "    }\n",
       "</style>\n",
       "<table border=\"1\" class=\"dataframe\">\n",
       "  <thead>\n",
       "    <tr style=\"text-align: right;\">\n",
       "      <th></th>\n",
       "      <th>WMT</th>\n",
       "      <th>FB</th>\n",
       "    </tr>\n",
       "  </thead>\n",
       "  <tbody>\n",
       "    <tr>\n",
       "      <td>WMT</td>\n",
       "      <td>0.000126</td>\n",
       "      <td>0.000035</td>\n",
       "    </tr>\n",
       "    <tr>\n",
       "      <td>FB</td>\n",
       "      <td>0.000035</td>\n",
       "      <td>0.000332</td>\n",
       "    </tr>\n",
       "  </tbody>\n",
       "</table>\n",
       "</div>"
      ],
      "text/plain": [
       "          WMT        FB\n",
       "WMT  0.000126  0.000035\n",
       "FB   0.000035  0.000332"
      ]
     },
     "execution_count": 16,
     "metadata": {},
     "output_type": "execute_result"
    }
   ],
   "source": [
    "returns.cov()"
   ]
  },
  {
   "cell_type": "markdown",
   "metadata": {},
   "source": [
    "Correlation matrix:"
   ]
  },
  {
   "cell_type": "code",
   "execution_count": 17,
   "metadata": {},
   "outputs": [
    {
     "data": {
      "text/html": [
       "<div>\n",
       "<style scoped>\n",
       "    .dataframe tbody tr th:only-of-type {\n",
       "        vertical-align: middle;\n",
       "    }\n",
       "\n",
       "    .dataframe tbody tr th {\n",
       "        vertical-align: top;\n",
       "    }\n",
       "\n",
       "    .dataframe thead th {\n",
       "        text-align: right;\n",
       "    }\n",
       "</style>\n",
       "<table border=\"1\" class=\"dataframe\">\n",
       "  <thead>\n",
       "    <tr style=\"text-align: right;\">\n",
       "      <th></th>\n",
       "      <th>WMT</th>\n",
       "      <th>FB</th>\n",
       "    </tr>\n",
       "  </thead>\n",
       "  <tbody>\n",
       "    <tr>\n",
       "      <td>WMT</td>\n",
       "      <td>1.000000</td>\n",
       "      <td>0.171753</td>\n",
       "    </tr>\n",
       "    <tr>\n",
       "      <td>FB</td>\n",
       "      <td>0.171753</td>\n",
       "      <td>1.000000</td>\n",
       "    </tr>\n",
       "  </tbody>\n",
       "</table>\n",
       "</div>"
      ],
      "text/plain": [
       "          WMT        FB\n",
       "WMT  1.000000  0.171753\n",
       "FB   0.171753  1.000000"
      ]
     },
     "execution_count": 17,
     "metadata": {},
     "output_type": "execute_result"
    }
   ],
   "source": [
    "returns.corr()"
   ]
  },
  {
   "cell_type": "markdown",
   "metadata": {},
   "source": [
    "Would you consider investing in such a portfolio?"
   ]
  },
  {
   "cell_type": "code",
   "execution_count": null,
   "metadata": {},
   "outputs": [],
   "source": []
  }
 ],
 "metadata": {
  "kernelspec": {
   "display_name": "Python 3",
   "language": "python",
   "name": "python3"
  },
  "language_info": {
   "codemirror_mode": {
    "name": "ipython",
    "version": 3
   },
   "file_extension": ".py",
   "mimetype": "text/x-python",
   "name": "python",
   "nbconvert_exporter": "python",
   "pygments_lexer": "ipython3",
   "version": "3.7.4"
  }
 },
 "nbformat": 4,
 "nbformat_minor": 2
}
